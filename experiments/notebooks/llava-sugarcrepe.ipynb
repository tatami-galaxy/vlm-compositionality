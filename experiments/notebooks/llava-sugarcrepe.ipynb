{
 "cells": [
  {
   "cell_type": "code",
   "execution_count": 1,
   "metadata": {},
   "outputs": [],
   "source": [
    "from PIL import Image\n",
    "import json\n",
    "\n",
    "import torch\n",
    "from transformers import AutoProcessor,  LlavaNextForConditionalGeneration"
   ]
  },
  {
   "cell_type": "markdown",
   "metadata": {},
   "source": [
    "### Load model"
   ]
  },
  {
   "cell_type": "code",
   "execution_count": 2,
   "metadata": {},
   "outputs": [
    {
     "data": {
      "application/vnd.jupyter.widget-view+json": {
       "model_id": "87fa4f85fe9049a79abf0a101ed980e4",
       "version_major": 2,
       "version_minor": 0
      },
      "text/plain": [
       "Loading checkpoint shards:   0%|          | 0/4 [00:00<?, ?it/s]"
      ]
     },
     "metadata": {},
     "output_type": "display_data"
    },
    {
     "name": "stderr",
     "output_type": "stream",
     "text": [
      "Some kwargs in processor config are unused and will not have any effect: num_additional_image_tokens. \n"
     ]
    }
   ],
   "source": [
    "# model_name\n",
    "model_name = \"llava-hf/llava-v1.6-mistral-7b-hf\"\n",
    "\n",
    "# load model\n",
    "model =  LlavaNextForConditionalGeneration.from_pretrained(\n",
    "    model_name,\n",
    "     torch_dtype=torch.bfloat16,\n",
    "     attn_implementation=\"flash_attention_2\",\n",
    "     device_map=\"auto\",\n",
    ")\n",
    "model.eval()\n",
    "\n",
    "# load processor\n",
    "processor = AutoProcessor.from_pretrained(model_name)"
   ]
  },
  {
   "cell_type": "markdown",
   "metadata": {},
   "source": [
    "### Load dataset"
   ]
  },
  {
   "cell_type": "code",
   "execution_count": 3,
   "metadata": {},
   "outputs": [],
   "source": [
    "folder_path = '/home/drdo/vlm-compositionality/data/raw/sugarcrepe/'\n",
    "\n",
    "# add attribute\n",
    "with open (folder_path+'add_att.json') as f:\n",
    "    add_attribute = json.load(f)\n",
    "\n",
    "# add object\n",
    "with open (folder_path+'add_obj.json') as f:\n",
    "    add_object = json.load(f)\n",
    "\n",
    "# replace attribute\n",
    "with open (folder_path+'replace_att.json') as f:\n",
    "    replace_attribute = json.load(f)\n",
    "\n",
    "# replace object\n",
    "with open (folder_path+'replace_obj.json') as f:\n",
    "    replace_object = json.load(f)\n",
    "\n",
    "# replace relation\n",
    "with open (folder_path+'replace_rel.json') as f:\n",
    "    replace_relation = json.load(f)\n",
    "\n",
    "# swap attribute\n",
    "with open (folder_path+'swap_att.json') as f:\n",
    "    swap_attribute = json.load(f)\n",
    "\n",
    "# swap object\n",
    "with open (folder_path+'swap_obj.json') as f:\n",
    "    swap_object = json.load(f)\n",
    "\n",
    "# collate together\n",
    "dataset = {\n",
    "    'add_attribute': add_attribute, 'add_object': add_object, 'replace_attribute': replace_attribute,\n",
    "    'replace_object': replace_object, 'replace_relation': replace_relation,\n",
    "    'swap_attribute': swap_attribute, 'swap_object': swap_object,\n",
    "}"
   ]
  },
  {
   "cell_type": "markdown",
   "metadata": {},
   "source": [
    "### Helper functions"
   ]
  },
  {
   "cell_type": "code",
   "execution_count": 4,
   "metadata": {},
   "outputs": [],
   "source": [
    "import random\n",
    "random.seed(42) # 42, 33, 56\n",
    "img_folder = '/home/drdo/vlm-compositionality/data/raw/coco_val_2017/'\n",
    "\n",
    "def get_random_sample(split_name, s_id):\n",
    "    all_ids = list(dataset[split_name].keys())\n",
    "    r_id = random.choice(all_ids)\n",
    "    # make sure its not the same example\n",
    "    while r_id == s_id:\n",
    "        r_id = random.choice(all_ids)\n",
    "    sample = dataset[split_name][r_id]\n",
    "    return sample\n",
    "\n",
    "\n",
    "def prepare_inputs(messages):\n",
    "    prompt = processor.apply_chat_template(messages, add_generation_prompt=True)\n",
    "    images = [Image.open(image) for image in [img_folder+img1, img_folder+img2, img_folder+img]]\n",
    "\n",
    "    # We can simply feed images in the order they have to be used in the text prompt\n",
    "    # Each \"<image>\" token uses one image leaving the next for the subsequent \"<image>\" tokens\n",
    "    inputs = processor(images=images, text=prompt, padding=True, return_tensors=\"pt\").to(model.device)\n",
    "    return inputs\n",
    "\n",
    " \n",
    "def generate_text(inputs, max_new_tokens=128):\n",
    "    generated_ids = model.generate(**inputs, max_new_tokens=max_new_tokens)\n",
    "    generated_ids_trimmed = [\n",
    "        out_ids[len(in_ids) :] for in_ids, out_ids in zip(inputs.input_ids, generated_ids)\n",
    "    ]\n",
    "    output_text = processor.batch_decode(\n",
    "        generated_ids_trimmed, skip_special_tokens=True, clean_up_tokenization_spaces=False\n",
    "    )\n",
    "    return output_text"
   ]
  },
  {
   "cell_type": "markdown",
   "metadata": {},
   "source": [
    "### Prompt functions"
   ]
  },
  {
   "cell_type": "code",
   "execution_count": 1,
   "metadata": {},
   "outputs": [],
   "source": [
    "####"
   ]
  },
  {
   "cell_type": "code",
   "execution_count": 9,
   "metadata": {},
   "outputs": [
    {
     "data": {
      "text/plain": [
       "'[INST] <image>\\nChoose and return the correct caption for the image from the following 2 captions. Generate no other text. Caption 1: A sailboat is riding the waves as a surfer surfs in the background. Caption 2: A surfer is riding the waves as a sailboat sails in the background. [/INST] Caption 2<\\\\s> [INST] <image>\\nChoose and return the correct caption for the image from the following 2 captions. Generate no other text. Caption 1: Girls wash a motorcycle while men look on. Caption 2: Men wash a motorcycle while girls look on. [/INST] Caption 1<\\\\s> [INST] <image>\\nChoose and return the correct caption for the image from the following 2 captions. Generate no other text. Caption 1: An elephant leads a baby elephant towards a door. Caption 2: A baby elephant leads an elephant towards a door. [/INST]'"
      ]
     },
     "execution_count": 9,
     "metadata": {},
     "output_type": "execute_result"
    }
   ],
   "source": [
    "img_folder = '/home/drdo/vlm-compositionality/data/raw/coco_val_2017/'\n",
    "\n",
    "# Get 2 images for prompt\n",
    "ids = ['4', '3']\n",
    "\n",
    "img1 = swap_object[ids[0]]['filename']\n",
    "caption1 = swap_object[ids[0]]['caption']\n",
    "negative1 = swap_object[ids[0]]['negative_caption']\n",
    "#swap_object[id]\n",
    "\n",
    "img2 = swap_object[ids[1]]['filename']\n",
    "caption2 = swap_object[ids[1]]['caption']\n",
    "negative2 = swap_object[ids[1]]['negative_caption']\n",
    "\n",
    "id = '56'\n",
    "img = swap_object[id]['filename']\n",
    "caption = swap_object[id]['caption']\n",
    "negative = swap_object[id]['negative_caption']\n",
    "\n",
    "# Prepare a batch of two prompts, where the first one is a multi-turn conversation and the second is not\n",
    "conversation = [\n",
    "    {\n",
    "        \"role\": \"user\",\n",
    "        \"content\": [\n",
    "            {\"type\": \"image\"},\n",
    "            {\"type\": \"text\", \"text\": (\"Choose and return the correct caption for the image from the following 2 captions. Generate no other text. Caption 1: {} Caption 2: {}\").format(negative1, caption1)},\n",
    "            ],\n",
    "    },\n",
    "    {\n",
    "        \"role\": \"assistant\",\n",
    "        \"content\": [\n",
    "            {\"type\": \"text\", \"text\": \"Caption 2\"},\n",
    "            ],\n",
    "    },\n",
    "    {\n",
    "        \"role\": \"user\",\n",
    "        \"content\": [\n",
    "            {\"type\": \"image\"},\n",
    "            {\"type\": \"text\", \"text\": (\"Choose and return the correct caption for the image from the following 2 captions. Generate no other text. Caption 1: {} Caption 2: {}\").format(caption2, negative2)},\n",
    "            ],\n",
    "    },\n",
    "    {\n",
    "        \"role\": \"assistant\",\n",
    "        \"content\": [\n",
    "            {\"type\": \"text\", \"text\": \"Caption 1\"},\n",
    "            ],\n",
    "    },\n",
    "    {\n",
    "        \"role\": \"user\",\n",
    "        \"content\": [\n",
    "            {\"type\": \"image\"},\n",
    "            {\"type\": \"text\", \"text\": (\"Choose and return the correct caption for the image from the following 2 captions. Generate no other text. Caption 1: {} Caption 2: {}\").format(caption, negative)},\n",
    "            ],\n",
    "    },\n",
    "]\n",
    "\n",
    "prompt = processor.apply_chat_template(conversation, add_generation_prompt=True)\n",
    "prompt"
   ]
  },
  {
   "cell_type": "code",
   "execution_count": 10,
   "metadata": {},
   "outputs": [
    {
     "name": "stderr",
     "output_type": "stream",
     "text": [
      "Setting `pad_token_id` to `eos_token_id`:None for open-end generation.\n"
     ]
    },
    {
     "data": {
      "text/plain": [
       "['[INST]  \\nChoose and return the correct caption for the image from the following 2 captions. Generate no other text. Caption 1: A sailboat is riding the waves as a surfer surfs in the background. Caption 2: A surfer is riding the waves as a sailboat sails in the background. [/INST] Caption 2<\\\\s> [INST]  \\nChoose and return the correct caption for the image from the following 2 captions. Generate no other text. Caption 1: Girls wash a motorcycle while men look on. Caption 2: Men wash a motorcycle while girls look on. [/INST] Caption 1<\\\\s> [INST]  \\nChoose and return the correct caption for the image from the following 2 captions. Generate no other text. Caption 1: An elephant leads a baby elephant towards a door. Caption 2: A baby elephant leads an elephant towards a door. [/INST] Caption 1<\\\\s> ']"
      ]
     },
     "execution_count": 10,
     "metadata": {},
     "output_type": "execute_result"
    }
   ],
   "source": [
    "images = [Image.open(image) for image in [img_folder+img1, img_folder+img2, img_folder+img]]\n",
    "\n",
    "# We can simply feed images in the order they have to be used in the text prompt\n",
    "# Each \"<image>\" token uses one image leaving the next for the subsequent \"<image>\" tokens\n",
    "inputs = processor(images=images, text=prompt, padding=True, return_tensors=\"pt\").to(model.device)\n",
    "\n",
    "# Generate\n",
    "generate_ids = model.generate(**inputs, max_new_tokens=30)\n",
    "processor.batch_decode(generate_ids, skip_special_tokens=True, clean_up_tokenization_spaces=False)"
   ]
  },
  {
   "cell_type": "markdown",
   "metadata": {},
   "source": [
    "### Zero-Shot"
   ]
  },
  {
   "cell_type": "code",
   "execution_count": null,
   "metadata": {},
   "outputs": [],
   "source": []
  }
 ],
 "metadata": {
  "kernelspec": {
   "display_name": "Python 3 (ipykernel)",
   "language": "python",
   "name": "python3"
  },
  "language_info": {
   "codemirror_mode": {
    "name": "ipython",
    "version": 3
   },
   "file_extension": ".py",
   "mimetype": "text/x-python",
   "name": "python",
   "nbconvert_exporter": "python",
   "pygments_lexer": "ipython3",
   "version": "3.12.0"
  }
 },
 "nbformat": 4,
 "nbformat_minor": 4
}
