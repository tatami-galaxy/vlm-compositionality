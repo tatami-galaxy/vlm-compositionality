{
 "cells": [
  {
   "cell_type": "code",
   "execution_count": 5,
   "id": "ab82bed3-f9e6-4415-ac71-d147922bbc72",
   "metadata": {},
   "outputs": [],
   "source": [
    "from datasets import load_dataset\n",
    "import json\n",
    "from tqdm.auto import tqdm\n",
    "\n",
    "from transformers import Qwen2VLForConditionalGeneration, AutoTokenizer, AutoProcessor\n",
    "from qwen_vl_utils import process_vision_info\n",
    "import torch"
   ]
  },
  {
   "cell_type": "markdown",
   "id": "985591bc-86b8-4e17-807d-fb31e75be31f",
   "metadata": {},
   "source": [
    "### Load sugarcrepe"
   ]
  },
  {
   "cell_type": "code",
   "execution_count": 2,
   "id": "2916563f-5ac7-4041-9f7e-9f7c23b5be96",
   "metadata": {},
   "outputs": [],
   "source": [
    "folder_path = '/home/drdo/vlm-compositionality/data/raw/sugarcrepe/'\n",
    "\n",
    "# add attribute\n",
    "with open (folder_path+'add_att.json') as f:\n",
    "    add_attribute = json.load(f)\n",
    "\n",
    "# add object\n",
    "with open (folder_path+'add_obj.json') as f:\n",
    "    add_object = json.load(f)\n",
    "\n",
    "# replace attribute\n",
    "with open (folder_path+'replace_att.json') as f:\n",
    "    replace_attribute = json.load(f)\n",
    "\n",
    "# replace object\n",
    "with open (folder_path+'replace_obj.json') as f:\n",
    "    replace_object = json.load(f)\n",
    "\n",
    "# replace relation\n",
    "with open (folder_path+'replace_rel.json') as f:\n",
    "    replace_relation = json.load(f)\n",
    "\n",
    "# swap attribute\n",
    "with open (folder_path+'swap_att.json') as f:\n",
    "    swap_attribute = json.load(f)\n",
    "\n",
    "# swap object\n",
    "with open (folder_path+'swap_obj.json') as f:\n",
    "    swap_object = json.load(f)"
   ]
  },
  {
   "cell_type": "markdown",
   "id": "b28bee9a-5e5e-4a75-b33f-4b1e6e4a509b",
   "metadata": {},
   "source": [
    "### Load model"
   ]
  },
  {
   "cell_type": "code",
   "execution_count": 6,
   "id": "c77891d6-3e0a-4df8-bd67-bd4cc90e32f1",
   "metadata": {},
   "outputs": [
    {
     "name": "stderr",
     "output_type": "stream",
     "text": [
      "`Qwen2VLRotaryEmbedding` can now be fully parameterized by passing the model config through the `config` argument. All other arguments will be removed in v4.46\n"
     ]
    },
    {
     "data": {
      "application/vnd.jupyter.widget-view+json": {
       "model_id": "b008fc334ada484a8ecc976df06d880c",
       "version_major": 2,
       "version_minor": 0
      },
      "text/plain": [
       "Loading checkpoint shards:   0%|          | 0/2 [00:00<?, ?it/s]"
      ]
     },
     "metadata": {},
     "output_type": "display_data"
    }
   ],
   "source": [
    "# model_name\n",
    "model_name = \"Qwen/Qwen2-VL-2B-Instruct\"\n",
    "\n",
    "# load model\n",
    "model = Qwen2VLForConditionalGeneration.from_pretrained(\n",
    "    model_name,\n",
    "     torch_dtype=torch.bfloat16,\n",
    "     attn_implementation=\"flash_attention_2\",\n",
    "     device_map=\"auto\",\n",
    ")\n",
    "\n",
    "# load processor\n",
    "processor = AutoProcessor.from_pretrained(model_name)"
   ]
  },
  {
   "cell_type": "code",
   "execution_count": null,
   "id": "b52e0bd4-8522-4a2d-a4aa-d8d24892c696",
   "metadata": {},
   "outputs": [],
   "source": []
  },
  {
   "cell_type": "code",
   "execution_count": null,
   "id": "7ed190e4-feb8-493d-9010-685b4adc7cd6",
   "metadata": {},
   "outputs": [],
   "source": []
  },
  {
   "cell_type": "markdown",
   "id": "7069d529-e2be-4fb9-9ff9-5dc4ffc17d88",
   "metadata": {},
   "source": [
    "#### Testing prompts"
   ]
  },
  {
   "cell_type": "code",
   "execution_count": 44,
   "id": "d6de9fdb-996d-4cf2-9e0f-39028e263bb2",
   "metadata": {},
   "outputs": [],
   "source": [
    "img_folder = '/home/drdo/vlm-compositionality/data/raw/coco_val_2017/'\n",
    "example = swap_object['2']"
   ]
  },
  {
   "cell_type": "code",
   "execution_count": 45,
   "id": "10ad85d7-aee9-4c07-bf22-aedacc695a54",
   "metadata": {},
   "outputs": [],
   "source": [
    "img_file = img_folder+example['filename']\n",
    "caption = example['caption']\n",
    "negative_caption = example['negative_caption']"
   ]
  },
  {
   "cell_type": "code",
   "execution_count": 46,
   "id": "fa7cb8de-f4ea-4e0c-b472-6a907a4720aa",
   "metadata": {},
   "outputs": [
    {
     "data": {
      "text/plain": [
       "{'filename': '000000287347.jpg',\n",
       " 'caption': 'A woman prepares a pizza while a man watches.',\n",
       " 'negative_caption': 'A man prepares a pizza while a woman watches.'}"
      ]
     },
     "execution_count": 46,
     "metadata": {},
     "output_type": "execute_result"
    }
   ],
   "source": [
    "example"
   ]
  },
  {
   "cell_type": "code",
   "execution_count": null,
   "id": "edd98ae1-e0b3-495d-bff0-4283ad303a43",
   "metadata": {},
   "outputs": [],
   "source": [
    "#chat = [\n",
    "\n",
    "  #{\"role\": \"user\", \"content\": \"Hello, how are you?\"},\n",
    "\n",
    "  #{\"role\": \"assistant\", \"content\": \"I'm doing great. How can I help you today?\"},\n",
    "\n",
    "  #{\"role\": \"user\", \"content\": \"I'd like to show off how chat templating works!\"},\n",
    "\n",
    "#]"
   ]
  },
  {
   "cell_type": "code",
   "execution_count": 37,
   "id": "83df093a-6f78-407b-9af3-6cc5df1c9930",
   "metadata": {},
   "outputs": [
    {
     "name": "stdout",
     "output_type": "stream",
     "text": [
      "['1) A man prepares a pizza while a woman watches.']\n"
     ]
    }
   ],
   "source": [
    "messages = [\n",
    "    {\n",
    "        \"role\": \"user\",\n",
    "        \"content\": [\n",
    "            {\"type\": \"image\", \"image\": img_file,},\n",
    "            {\"type\": \"text\", \"text\": \"Choose and return the more appropriate caption for the image from the following 2 captions : 1) \"+negative_caption+\" 2) \"+caption+\" Generate no other text.\"},\n",
    "        ],\n",
    "    }\n",
    "]\n",
    "\n",
    "# Preparation for inference\n",
    "text = processor.apply_chat_template(\n",
    "    messages, tokenize=False, add_generation_prompt=True\n",
    ")\n",
    "image_inputs, video_inputs = process_vision_info(messages)\n",
    "inputs = processor(\n",
    "    text=[text],\n",
    "    images=image_inputs,\n",
    "    videos=video_inputs,\n",
    "    padding=True,\n",
    "    return_tensors=\"pt\",\n",
    ")\n",
    "inputs = inputs.to(\"cuda\")\n",
    "\n",
    "generated_ids = model.generate(**inputs, max_new_tokens=128)\n",
    "generated_ids_trimmed = [\n",
    "    out_ids[len(in_ids) :] for in_ids, out_ids in zip(inputs.input_ids, generated_ids)\n",
    "]\n",
    "output_text = processor.batch_decode(\n",
    "    generated_ids_trimmed, skip_special_tokens=True, clean_up_tokenization_spaces=False\n",
    ")\n",
    "print(output_text)"
   ]
  },
  {
   "cell_type": "code",
   "execution_count": null,
   "id": "17e39595-285e-4c8a-814d-5573806b5dfb",
   "metadata": {},
   "outputs": [],
   "source": [
    "# observatiosn\n",
    "\n",
    "# shuffle ordering\n",
    "# few(even 1) shot helps -> need to make sure example do not contain answer\n",
    "# how to ensure consistent output?"
   ]
  },
  {
   "cell_type": "code",
   "execution_count": null,
   "id": "c83303bb-cf06-4fab-8b48-49a5319af849",
   "metadata": {},
   "outputs": [],
   "source": []
  },
  {
   "cell_type": "code",
   "execution_count": 49,
   "id": "dc1da611-7b4f-459d-a353-e6042cfac6f8",
   "metadata": {},
   "outputs": [
    {
     "name": "stdout",
     "output_type": "stream",
     "text": [
      "['Caption 1']\n"
     ]
    }
   ],
   "source": [
    "messages = [\n",
    "    {\n",
    "        \"role\": \"user\",\n",
    "        \"content\": [\n",
    "            {\"type\": \"image\", \"image\": img_folder+'000000480021.jpg',},\n",
    "            {\"type\": \"text\", \"text\": \"Choose and return the more appropriate caption for the image from the following 2 captions. Generate no other text. Caption 1: A man on a motorcycle is waving at two men. Caption 2: Two men on a motorcycle are waving at a man.\"},\n",
    "        ],\n",
    "        \"role\": \"assistant\",\n",
    "        \"content\": [\n",
    "            {\"type\": \"text\", \"text\": \"Caption 1: A man on a motorcycle is waving at two men.\"}\n",
    "        ],\n",
    "        \"role\": \"user\",\n",
    "        \"content\": [\n",
    "            {\"type\": \"image\", \"image\": img_file,},\n",
    "            {\"type\": \"text\", \"text\": \"Choose and return the more appropriate caption for the image from the following 2 captions. Generate no other text. Caption 1: A woman prepares a pizza while a man watches. Caption 2: A man prepares a pizza while a woman watches.\"},\n",
    "        ],\n",
    "    }\n",
    "]\n",
    "\n",
    "# Preparation for inference\n",
    "text = processor.apply_chat_template(\n",
    "    messages, tokenize=False, add_generation_prompt=True\n",
    ")\n",
    "image_inputs, video_inputs = process_vision_info(messages)\n",
    "inputs = processor(\n",
    "    text=[text],\n",
    "    images=image_inputs,\n",
    "    videos=video_inputs,\n",
    "    padding=True,\n",
    "    return_tensors=\"pt\",\n",
    ")\n",
    "inputs = inputs.to(\"cuda\")\n",
    "\n",
    "generated_ids = model.generate(**inputs, max_new_tokens=128)\n",
    "generated_ids_trimmed = [\n",
    "    out_ids[len(in_ids) :] for in_ids, out_ids in zip(inputs.input_ids, generated_ids)\n",
    "]\n",
    "output_text = processor.batch_decode(\n",
    "    generated_ids_trimmed, skip_special_tokens=True, clean_up_tokenization_spaces=False\n",
    ")\n",
    "print(output_text)"
   ]
  },
  {
   "cell_type": "code",
   "execution_count": null,
   "id": "c1b42d2d-d54a-409a-9e25-a9ab273f5d80",
   "metadata": {},
   "outputs": [],
   "source": []
  }
 ],
 "metadata": {
  "kernelspec": {
   "display_name": "Python 3 (ipykernel)",
   "language": "python",
   "name": "python3"
  },
  "language_info": {
   "codemirror_mode": {
    "name": "ipython",
    "version": 3
   },
   "file_extension": ".py",
   "mimetype": "text/x-python",
   "name": "python",
   "nbconvert_exporter": "python",
   "pygments_lexer": "ipython3",
   "version": "3.12.7"
  }
 },
 "nbformat": 4,
 "nbformat_minor": 5
}
