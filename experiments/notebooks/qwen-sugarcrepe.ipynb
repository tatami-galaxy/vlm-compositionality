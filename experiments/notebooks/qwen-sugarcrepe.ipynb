{
 "cells": [
  {
   "cell_type": "code",
   "execution_count": 1,
   "id": "ab82bed3-f9e6-4415-ac71-d147922bbc72",
   "metadata": {},
   "outputs": [],
   "source": [
    "import json\n",
    "from tqdm.auto import tqdm\n",
    "\n",
    "from transformers import Qwen2VLForConditionalGeneration, AutoProcessor\n",
    "from qwen_vl_utils import process_vision_info\n",
    "import torch"
   ]
  },
  {
   "cell_type": "markdown",
   "id": "985591bc-86b8-4e17-807d-fb31e75be31f",
   "metadata": {},
   "source": [
    "### Load sugarcrepe"
   ]
  },
  {
   "cell_type": "code",
   "execution_count": 2,
   "id": "2916563f-5ac7-4041-9f7e-9f7c23b5be96",
   "metadata": {},
   "outputs": [],
   "source": [
    "folder_path = '/home/drdo/vlm-compositionality/data/raw/sugarcrepe/'\n",
    "\n",
    "# add attribute\n",
    "with open (folder_path+'add_att.json') as f:\n",
    "    add_attribute = json.load(f)\n",
    "\n",
    "# add object\n",
    "with open (folder_path+'add_obj.json') as f:\n",
    "    add_object = json.load(f)\n",
    "\n",
    "# replace attribute\n",
    "with open (folder_path+'replace_att.json') as f:\n",
    "    replace_attribute = json.load(f)\n",
    "\n",
    "# replace object\n",
    "with open (folder_path+'replace_obj.json') as f:\n",
    "    replace_object = json.load(f)\n",
    "\n",
    "# replace relation\n",
    "with open (folder_path+'replace_rel.json') as f:\n",
    "    replace_relation = json.load(f)\n",
    "\n",
    "# swap attribute\n",
    "with open (folder_path+'swap_att.json') as f:\n",
    "    swap_attribute = json.load(f)\n",
    "\n",
    "# swap object\n",
    "with open (folder_path+'swap_obj.json') as f:\n",
    "    swap_object = json.load(f)\n",
    "\n",
    "# collate together\n",
    "dataset = {\n",
    "    'add_attribute': add_attribute, 'add_object': add_object, 'replace_attribute': replace_attribute,\n",
    "    'replace_object': replace_object, 'replace_relation': replace_relation,\n",
    "    'swap_attribute': swap_attribute, 'swap_object': swap_object,\n",
    "}"
   ]
  },
  {
   "cell_type": "markdown",
   "id": "b28bee9a-5e5e-4a75-b33f-4b1e6e4a509b",
   "metadata": {},
   "source": [
    "### Load model"
   ]
  },
  {
   "cell_type": "code",
   "execution_count": 3,
   "id": "c77891d6-3e0a-4df8-bd67-bd4cc90e32f1",
   "metadata": {},
   "outputs": [
    {
     "name": "stderr",
     "output_type": "stream",
     "text": [
      "`Qwen2VLRotaryEmbedding` can now be fully parameterized by passing the model config through the `config` argument. All other arguments will be removed in v4.46\n"
     ]
    },
    {
     "data": {
      "application/vnd.jupyter.widget-view+json": {
       "model_id": "87ae607298004a4b91542408dd4d4789",
       "version_major": 2,
       "version_minor": 0
      },
      "text/plain": [
       "Loading checkpoint shards:   0%|          | 0/2 [00:00<?, ?it/s]"
      ]
     },
     "metadata": {},
     "output_type": "display_data"
    }
   ],
   "source": [
    "# model_name\n",
    "model_name = \"Qwen/Qwen2-VL-2B-Instruct\"\n",
    "\n",
    "# load model\n",
    "model = Qwen2VLForConditionalGeneration.from_pretrained(\n",
    "    model_name,\n",
    "     torch_dtype=torch.bfloat16,\n",
    "     attn_implementation=\"flash_attention_2\",\n",
    "     device_map=\"auto\",\n",
    ")\n",
    "model.eval()\n",
    "\n",
    "# load processor\n",
    "processor = AutoProcessor.from_pretrained(model_name)"
   ]
  },
  {
   "cell_type": "markdown",
   "id": "700ba019-6b6d-4008-857f-fdee196f1fca",
   "metadata": {},
   "source": [
    "### Helper functions"
   ]
  },
  {
   "cell_type": "code",
   "execution_count": 4,
   "id": "66561b46-b7ab-4cbe-8be5-290bcff2b6e2",
   "metadata": {},
   "outputs": [],
   "source": [
    "import random\n",
    "random.seed(42) # 42, 33, 56\n",
    "img_folder = '/home/drdo/vlm-compositionality/data/raw/coco_val_2017/'\n",
    "\n",
    "def get_random_sample(split_name, s_id):\n",
    "    all_ids = list(dataset[split_name].keys())\n",
    "    r_id = random.choice(all_ids)\n",
    "    # make sure its not the same example\n",
    "    while r_id == s_id:\n",
    "        r_id = random.choice(all_ids)\n",
    "    sample = dataset[split_name][r_id]\n",
    "    return sample\n",
    "\n",
    "\n",
    "def prepare_inputs(messages):\n",
    "    text = processor.apply_chat_template(\n",
    "        messages, tokenize=False, add_generation_prompt=True\n",
    "    )\n",
    "    image_inputs, video_inputs = process_vision_info(messages)\n",
    "    inputs = processor(\n",
    "        text=[text],\n",
    "        images=image_inputs,\n",
    "        videos=video_inputs,\n",
    "        padding=True,\n",
    "        return_tensors=\"pt\",\n",
    "    )\n",
    "    inputs = inputs.to(\"cuda\")\n",
    "    return inputs\n",
    "\n",
    " \n",
    "def generate_text(inputs, max_new_tokens=128):\n",
    "    generated_ids = model.generate(**inputs, max_new_tokens=max_new_tokens)\n",
    "    generated_ids_trimmed = [\n",
    "        out_ids[len(in_ids) :] for in_ids, out_ids in zip(inputs.input_ids, generated_ids)\n",
    "    ]\n",
    "    output_text = processor.batch_decode(\n",
    "        generated_ids_trimmed, skip_special_tokens=True, clean_up_tokenization_spaces=False\n",
    "    )\n",
    "    return output_text"
   ]
  },
  {
   "cell_type": "markdown",
   "id": "e90c62f8",
   "metadata": {},
   "source": [
    "### Prompt functions"
   ]
  },
  {
   "cell_type": "code",
   "execution_count": 5,
   "id": "f09bfb3e",
   "metadata": {},
   "outputs": [],
   "source": [
    "def compose_zero_shot_prompt(sample, prompt_num=1, shuffle_ordering='random'):\n",
    "    \n",
    "    # final prompt\n",
    "    messages = []\n",
    "\n",
    "    # prompt template\n",
    "\n",
    "    if prompt_num == 1:\n",
    "        prompt_instruct = \"Choose and return the correct caption for the image from the following 2 captions. \" \n",
    "        add_instruct = \"Generate no other text. \"\n",
    "        instruct_content = \"Caption 1: {} Caption 2: {}\"\n",
    "\n",
    "    elif prompt_num == 2:\n",
    "        prompt_instruct = \"Select the correct caption for the given image. \"\n",
    "        add_instruct = \"Return either 'Caption 1' or 'Caption 2'. \"\n",
    "        instruct_content = \"The captions are as follows :  Caption 1: {} Caption 2: {}\"\n",
    "\n",
    "    # sample\n",
    "    caption = sample['caption']\n",
    "    negative_caption = sample['negative_caption']\n",
    "    captions = [caption, negative_caption]\n",
    "    \n",
    "    # randomly choose ordering of the captions\n",
    "    if shuffle_ordering == 'random':\n",
    "        c_id = random.choice([1,0])\n",
    "        prompt = (prompt_instruct + add_instruct + instruct_content).format(captions[c_id], captions[1-c_id])\n",
    "        label = \"Caption 1\" if c_id == 0 else \"Caption 2\"\n",
    "    elif shuffle_ordering == 'first':\n",
    "        prompt = (prompt_instruct + add_instruct + instruct_content).format(captions[0], captions[1])\n",
    "        label = \"Caption 1\"\n",
    "    elif shuffle_ordering == 'second':\n",
    "        prompt = (prompt_instruct + add_instruct + instruct_content).format(captions[1], captions[0])\n",
    "        label = \"Caption 2\"\n",
    "\n",
    "    # add to content\n",
    "    user_content = []\n",
    "    user_content.append({\"type\": \"image\", \"image\": img_folder+sample['filename']}),\n",
    "    user_content.append({\"type\": \"text\", \"text\": prompt}),\n",
    "\n",
    "    # add to final message\n",
    "    messages.append({\"role\": \"user\", \"content\": user_content})\n",
    "\n",
    "    return messages, label\n",
    "\n",
    "\n",
    "def compose_few_shot_prompt(split_name, s_id, sample, num_examples=1):\n",
    "    \n",
    "    # final prompt\n",
    "    messages = []\n",
    "\n",
    "    # prompt template\n",
    "\n",
    "    prompt_instructs = [\"Given an image your task is to return the correct caption from two given captions. \",\n",
    "                        \"Return the correct caption for the last image. Return either 'Caption 1' or 'Caption 2'. \", \n",
    "                        \"The captions and the correct outputs for the previous images are as follows : \" \n",
    "    ]\n",
    "    r_samples = []\n",
    "    ex_instructs = []\n",
    "    for n in range(num_examples):\n",
    "\n",
    "        # select random example\n",
    "        r_sample = get_random_sample(split_name, s_id)\n",
    "        r_samples.append(r_sample)\n",
    "        caption = r_sample['caption']\n",
    "        negative_caption = r_sample['negative_caption']\n",
    "        captions = [caption, negative_caption]\n",
    "\n",
    "        # randomly order captions\n",
    "        c_id = random.choice([1,0])\n",
    "        r_label = \"Caption 1\" if c_id == 0 else \"Caption 2\"\n",
    "\n",
    "        ex_instructs.append(\n",
    "            (\n",
    "                \"Captions for image {} : Captions 1 : {} Caption 2 : {} Correct output : {}. \"\n",
    "            ).format(\n",
    "                n+1, captions[c_id], captions[1-c_id], r_label\n",
    "            )\n",
    "        )\n",
    "\n",
    "    # last image\n",
    "    caption = sample['caption']\n",
    "    negative_caption = sample['negative_caption']\n",
    "    captions = [caption, negative_caption]\n",
    "    # randomly order captions\n",
    "    c_id = random.choice([1,0])\n",
    "    label = \"Caption 1\" if c_id == 0 else \"Caption 2\"\n",
    "    final_instruct = (\"Captions for the last image : Captions 1 : {} Caption 2 : {}\").format(captions[c_id], captions[1-c_id])\n",
    "\n",
    "    # compile prompt\n",
    "    prompt = ''.join(prompt_instructs) + ''.join(ex_instructs) + final_instruct\n",
    "\n",
    "    # add to content\n",
    "    user_content = []\n",
    "    for n in range(num_examples):\n",
    "        user_content.append({\"type\": \"image\", \"image\": img_folder+r_samples[n]['filename']})\n",
    "    user_content.append({\"type\": \"image\", \"image\": img_folder+sample['filename']})\n",
    "    user_content.append({\"type\": \"text\", \"text\": prompt})\n",
    "\n",
    "    # add to final message\n",
    "    messages.append({\"role\": \"user\", \"content\": user_content})\n",
    "\n",
    "    return messages, label"
   ]
  },
  {
   "cell_type": "markdown",
   "id": "8ff4e4f3-8a8b-4298-ad8a-a8c405835df3",
   "metadata": {},
   "source": [
    "### Zero-Shot"
   ]
  },
  {
   "cell_type": "code",
   "execution_count": null,
   "id": "7ed190e4-feb8-493d-9010-685b4adc7cd6",
   "metadata": {},
   "outputs": [],
   "source": [
    "total_len = sum([len(split) for name, split in dataset.items()])\n",
    "bar = tqdm(range(total_len))\n",
    "incorrect_outputs = []\n",
    "\n",
    "for split_name, split in dataset.items():\n",
    "    \n",
    "    accuracy = 0\n",
    "    for s_id, sample in split.items():\n",
    "        \n",
    "        # compose prompt with chat template\n",
    "        messages, label = compose_zero_shot_prompt(sample, prompt_num=1, shuffle_ordering='random')\n",
    "\n",
    "        # prepare for inference\n",
    "        inputs = prepare_inputs(messages)\n",
    "\n",
    "        # generate text\n",
    "        output_text = generate_text(inputs)\n",
    "\n",
    "        # eval\n",
    "        output_label = output_text[0]\n",
    "        if output_label == label: accuracy += 1\n",
    "        elif output_label not in ['Caption 1', 'Caption 2']:\n",
    "            incorrect_outputs.append({'label': label, 'output': output_text})\n",
    "\n",
    "        bar.update(1)\n",
    "\n",
    "    print(\"{} : {}\".format(split_name, accuracy/len(split)))\n",
    "\n",
    "print(len(incorrect_outputs))"
   ]
  },
  {
   "cell_type": "markdown",
   "id": "f8546cb1",
   "metadata": {},
   "source": [
    "### Few-Shot"
   ]
  },
  {
   "cell_type": "code",
   "execution_count": 6,
   "id": "5e562c58-9a1a-40e9-9a1e-a79b46f2a689",
   "metadata": {},
   "outputs": [
    {
     "data": {
      "application/vnd.jupyter.widget-view+json": {
       "model_id": "2b8473c76db04f8b83e626fd08ebb038",
       "version_major": 2,
       "version_minor": 0
      },
      "text/plain": [
       "  0%|          | 0/7511 [00:00<?, ?it/s]"
      ]
     },
     "metadata": {},
     "output_type": "display_data"
    },
    {
     "name": "stdout",
     "output_type": "stream",
     "text": [
      "add_attribute : 0.48554913294797686\n",
      "add_object : 0.5237633365664404\n",
      "replace_attribute : 0.48984771573604063\n",
      "replace_object : 0.5338983050847458\n",
      "replace_relation : 0.5056899004267426\n",
      "swap_attribute : 0.506006006006006\n"
     ]
    }
   ],
   "source": [
    "total_len = sum([len(split) for _, split in dataset.items()])\n",
    "bar = tqdm(range(total_len))\n",
    "incorrect_outputs = []\n",
    "\n",
    "for split_name, split in dataset.items():\n",
    "    \n",
    "    accuracy = 0\n",
    "    for s_id, sample in split.items():\n",
    "        \n",
    "        # compose prompt with chat template\n",
    "        messages, label = compose_few_shot_prompt(split_name, s_id, sample, num_examples=2)\n",
    "\n",
    "        # prepare for inference\n",
    "        inputs = prepare_inputs(messages)\n",
    "\n",
    "        # generate text\n",
    "        output_text = generate_text(inputs)\n",
    "\n",
    "        # eval\n",
    "        output_label = output_text[0]\n",
    "        if output_label == label: accuracy += 1\n",
    "        elif output_label not in ['Caption 1', 'Caption 2']:\n",
    "            incorrect_outputs.append({'label': label, 'output': output_text})\n",
    "\n",
    "        bar.update(1)\n",
    "\n",
    "    print(\"{} : {}\".format(split_name, accuracy/len(split)))\n",
    "\n",
    "print(len(incorrect_outputs))"
   ]
  },
  {
   "cell_type": "code",
   "execution_count": null,
   "id": "1584b8f4-600a-4091-9d44-51238d493f1f",
   "metadata": {},
   "outputs": [],
   "source": []
  },
  {
   "cell_type": "markdown",
   "id": "7069d529-e2be-4fb9-9ff9-5dc4ffc17d88",
   "metadata": {},
   "source": [
    "#### Testing prompts"
   ]
  },
  {
   "cell_type": "code",
   "execution_count": 30,
   "id": "d6de9fdb-996d-4cf2-9e0f-39028e263bb2",
   "metadata": {},
   "outputs": [],
   "source": [
    "img_folder = '/home/drdo/vlm-compositionality/data/raw/coco_val_2017/'\n",
    "example = swap_object['2']"
   ]
  },
  {
   "cell_type": "code",
   "execution_count": 33,
   "id": "10ad85d7-aee9-4c07-bf22-aedacc695a54",
   "metadata": {},
   "outputs": [],
   "source": [
    "img_file = img_folder+example['filename']\n",
    "caption = example['caption']\n",
    "negative_caption = example['negative_caption']"
   ]
  },
  {
   "cell_type": "code",
   "execution_count": 34,
   "id": "fa7cb8de-f4ea-4e0c-b472-6a907a4720aa",
   "metadata": {},
   "outputs": [
    {
     "data": {
      "text/plain": [
       "{'filename': '000000287347.jpg',\n",
       " 'caption': 'A woman prepares a pizza while a man watches.',\n",
       " 'negative_caption': 'A man prepares a pizza while a woman watches.'}"
      ]
     },
     "execution_count": 34,
     "metadata": {},
     "output_type": "execute_result"
    }
   ],
   "source": [
    "example"
   ]
  },
  {
   "cell_type": "code",
   "execution_count": 25,
   "id": "5696a0c4-a850-419b-9e9c-a08f6c3620b3",
   "metadata": {},
   "outputs": [
    {
     "data": {
      "text/plain": [
       "{'filename': '000000177934.jpg',\n",
       " 'caption': 'Girls wash a motorcycle while men look on.',\n",
       " 'negative_caption': 'Men wash a motorcycle while girls look on.'}"
      ]
     },
     "execution_count": 25,
     "metadata": {},
     "output_type": "execute_result"
    }
   ],
   "source": [
    "swap_object['3']"
   ]
  },
  {
   "cell_type": "code",
   "execution_count": null,
   "id": "edd98ae1-e0b3-495d-bff0-4283ad303a43",
   "metadata": {},
   "outputs": [],
   "source": [
    "#chat = [\n",
    "\n",
    "  #{\"role\": \"user\", \"content\": \"Hello, how are you?\"},\n",
    "\n",
    "  #{\"role\": \"assistant\", \"content\": \"I'm doing great. How can I help you today?\"},\n",
    "\n",
    "  #{\"role\": \"user\", \"content\": \"I'd like to show off how chat templating works!\"},\n",
    "\n",
    "#]"
   ]
  },
  {
   "cell_type": "code",
   "execution_count": 7,
   "id": "83df093a-6f78-407b-9af3-6cc5df1c9930",
   "metadata": {},
   "outputs": [
    {
     "name": "stdout",
     "output_type": "stream",
     "text": [
      "['1) A man prepares a pizza while a woman watches.']\n"
     ]
    }
   ],
   "source": [
    "messages = [\n",
    "    {\n",
    "        \"role\": \"user\",\n",
    "        \"content\": [\n",
    "            {\"type\": \"image\", \"image\": img_file,},\n",
    "            {\"type\": \"text\", \"text\": \"Choose and return the more appropriate caption for the image from the following 2 captions : 1) \"+negative_caption+\" 2) \"+caption+\" Generate no other text.\"},\n",
    "        ],\n",
    "    }\n",
    "]\n",
    "\n",
    "# Preparation for inference\n",
    "text = processor.apply_chat_template(\n",
    "    messages, tokenize=False, add_generation_prompt=True\n",
    ")\n",
    "image_inputs, video_inputs = process_vision_info(messages)\n",
    "inputs = processor(\n",
    "    text=[text],\n",
    "    images=image_inputs,\n",
    "    videos=video_inputs,\n",
    "    padding=True,\n",
    "    return_tensors=\"pt\",\n",
    ")\n",
    "inputs = inputs.to(\"cuda\")\n",
    "\n",
    "generated_ids = model.generate(**inputs, max_new_tokens=128)\n",
    "generated_ids_trimmed = [\n",
    "    out_ids[len(in_ids) :] for in_ids, out_ids in zip(inputs.input_ids, generated_ids)\n",
    "]\n",
    "output_text = processor.batch_decode(\n",
    "    generated_ids_trimmed, skip_special_tokens=True, clean_up_tokenization_spaces=False\n",
    ")\n",
    "print(output_text)"
   ]
  },
  {
   "cell_type": "code",
   "execution_count": 46,
   "id": "a148a3a7-5ceb-47bb-b7c5-bedb637d9362",
   "metadata": {},
   "outputs": [
    {
     "data": {
      "text/plain": [
       "1"
      ]
     },
     "execution_count": 46,
     "metadata": {},
     "output_type": "execute_result"
    }
   ],
   "source": [
    "len(messages)"
   ]
  },
  {
   "cell_type": "code",
   "execution_count": 45,
   "id": "01f5f421-f4b1-4e64-a003-feb795696488",
   "metadata": {},
   "outputs": [
    {
     "data": {
      "text/plain": [
       "dict_keys(['role', 'content'])"
      ]
     },
     "execution_count": 45,
     "metadata": {},
     "output_type": "execute_result"
    }
   ],
   "source": [
    "messages[0].keys()"
   ]
  },
  {
   "cell_type": "code",
   "execution_count": null,
   "id": "17e39595-285e-4c8a-814d-5573806b5dfb",
   "metadata": {},
   "outputs": [],
   "source": [
    "# observation\n",
    "\n",
    "# shuffle ordering\n",
    "# few(even 1) shot helps -> need to make sure example do not contain answer\n",
    "# how to ensure consistent output?"
   ]
  },
  {
   "cell_type": "code",
   "execution_count": 36,
   "id": "dc1da611-7b4f-459d-a353-e6042cfac6f8",
   "metadata": {},
   "outputs": [
    {
     "name": "stdout",
     "output_type": "stream",
     "text": [
      "['Caption 1']\n"
     ]
    }
   ],
   "source": [
    "messages = [\n",
    "    {\n",
    "        \"role\": \"user\",\n",
    "        \"content\": [\n",
    "            {\"type\": \"image\", \"image\": img_folder+'000000051309.jpg',},\n",
    "            {\"type\": \"text\", \"text\": \"Choose and return the more appropriate caption for the image from the following 2 captions. Generate no other text. Caption 1: Three large horses eating hay while a small horse stands behind. Caption 2: A small horse eating hay while three large horses stand behind .\"},\n",
    "        ]\n",
    "    },\n",
    "    {\n",
    "        \"role\": \"assistant\",\n",
    "        \"content\": [\n",
    "            {\"type\": \"text\", \"text\": \"Caption 1\"}\n",
    "        ]\n",
    "    },\n",
    "     {\n",
    "        \"role\": \"user\",\n",
    "        \"content\": [\n",
    "            {\"type\": \"image\", \"image\": img_folder+'000000177934.jpg',},\n",
    "            {\"type\": \"text\", \"text\": \"Choose and return the more appropriate caption for the image from the following 2 captions. Generate no other text. Caption 1: Men wash a motorcycle while girls look on. Caption 2: Girls wash a motorcycle while men look on.\"},\n",
    "        ]\n",
    "    },\n",
    "    {\n",
    "        \"role\": \"assistant\",\n",
    "        \"content\": [\n",
    "            {\"type\": \"text\", \"text\": \"Caption 1\"}\n",
    "        ]\n",
    "    },\n",
    "    {\n",
    "        \"role\": \"user\",\n",
    "        \"content\": [\n",
    "            {\"type\": \"image\", \"image\": img_file,},\n",
    "            {\"type\": \"text\", \"text\": \"Choose and return the more appropriate caption for the image from the following 2 captions. Generate no other text. Caption 1: A man prepares a pizza while a woman watches. Caption 2: A woman prepares a pizza while a man watches.\"},\n",
    "        ]\n",
    "    }\n",
    "]\n",
    "\n",
    "# Preparation for inference\n",
    "text = processor.apply_chat_template(\n",
    "    messages, tokenize=False, add_generation_prompt=True\n",
    ")\n",
    "image_inputs, video_inputs = process_vision_info(messages)\n",
    "inputs = processor(\n",
    "    text=[text],\n",
    "    images=image_inputs,\n",
    "    videos=video_inputs,\n",
    "    padding=True,\n",
    "    return_tensors=\"pt\",\n",
    ")\n",
    "inputs = inputs.to(\"cuda\")\n",
    "\n",
    "generated_ids = model.generate(**inputs, max_new_tokens=128)\n",
    "generated_ids_trimmed = [\n",
    "    out_ids[len(in_ids) :] for in_ids, out_ids in zip(inputs.input_ids, generated_ids)\n",
    "]\n",
    "output_text = processor.batch_decode(\n",
    "    generated_ids_trimmed, skip_special_tokens=True, clean_up_tokenization_spaces=False\n",
    ")\n",
    "print(output_text)"
   ]
  },
  {
   "cell_type": "code",
   "execution_count": 57,
   "id": "c1b42d2d-d54a-409a-9e25-a9ab273f5d80",
   "metadata": {},
   "outputs": [
    {
     "data": {
      "text/plain": [
       "[{'role': 'user',\n",
       "  'content': [{'type': 'image',\n",
       "    'image': '/home/drdo/vlm-compositionality/data/raw/coco_val_2017/000000287347.jpg'},\n",
       "   {'type': 'text',\n",
       "    'text': 'Choose and return the more appropriate caption for the image from the following 2 captions. Generate no other text. Caption 1: A man prepares a pizza while a woman watches. Caption 2: A woman prepares a pizza while a man watches.'}]}]"
      ]
     },
     "execution_count": 57,
     "metadata": {},
     "output_type": "execute_result"
    }
   ],
   "source": [
    "messages"
   ]
  },
  {
   "cell_type": "code",
   "execution_count": null,
   "id": "9ece41d4-6875-4ade-9887-e4ad41ebb2ed",
   "metadata": {},
   "outputs": [],
   "source": []
  }
 ],
 "metadata": {
  "kernelspec": {
   "display_name": "Python 3 (ipykernel)",
   "language": "python",
   "name": "python3"
  },
  "language_info": {
   "codemirror_mode": {
    "name": "ipython",
    "version": 3
   },
   "file_extension": ".py",
   "mimetype": "text/x-python",
   "name": "python",
   "nbconvert_exporter": "python",
   "pygments_lexer": "ipython3",
   "version": "3.12.0"
  }
 },
 "nbformat": 4,
 "nbformat_minor": 5
}
