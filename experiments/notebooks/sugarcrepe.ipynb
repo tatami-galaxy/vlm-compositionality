{
 "cells": [
  {
   "cell_type": "code",
   "execution_count": 1,
   "id": "b1dd73a1-4805-4452-8cfb-1f4ca93a37cf",
   "metadata": {},
   "outputs": [],
   "source": [
    "from datasets import load_dataset\n",
    "import json\n",
    "from tqdm.auto import tqdm"
   ]
  },
  {
   "cell_type": "code",
   "execution_count": 2,
   "id": "8f03fe8d-2538-4100-be02-7f48ed1274d5",
   "metadata": {},
   "outputs": [],
   "source": [
    "with open ('/home/drdo/vlm-compositionality/data/raw/sugarcrepe/add_obj.json') as f:\n",
    "    sc_add_obj = json.load(f)"
   ]
  },
  {
   "cell_type": "code",
   "execution_count": 5,
   "id": "fc3ef281-896b-420e-b634-c228b3079e97",
   "metadata": {},
   "outputs": [
    {
     "data": {
      "text/plain": [
       "{'filename': '000000004495.jpg',\n",
       " 'caption': 'A living room with a couch and chair.',\n",
       " 'negative_caption': 'A living room with a couch and a bookshelf and a chair.'}"
      ]
     },
     "execution_count": 5,
     "metadata": {},
     "output_type": "execute_result"
    }
   ],
   "source": [
    "sc_add_obj['10']"
   ]
  },
  {
   "cell_type": "code",
   "execution_count": 6,
   "id": "40055673-f601-4fb5-a980-9a20719d2753",
   "metadata": {},
   "outputs": [],
   "source": [
    "with open ('/home/drdo/vlm-compositionality/data/raw/sugarcrepe/swap_att.json') as f:\n",
    "    sc_swap_att = json.load(f)"
   ]
  },
  {
   "cell_type": "code",
   "execution_count": 7,
   "id": "2d4327db-b77e-44b0-8dc8-12e5888cb724",
   "metadata": {},
   "outputs": [
    {
     "data": {
      "text/plain": [
       "{'filename': '000000565045.jpg',\n",
       " 'caption': 'Blue bathroom with two white towels hanging by the shower.',\n",
       " 'negative_caption': 'White bathroom with two blue towels hanging by the shower.'}"
      ]
     },
     "execution_count": 7,
     "metadata": {},
     "output_type": "execute_result"
    }
   ],
   "source": [
    "sc_swap_att['0']"
   ]
  },
  {
   "cell_type": "code",
   "execution_count": null,
   "id": "f806692d-9360-479f-8feb-a50e464d6e6e",
   "metadata": {},
   "outputs": [],
   "source": []
  }
 ],
 "metadata": {
  "kernelspec": {
   "display_name": "Python 3 (ipykernel)",
   "language": "python",
   "name": "python3"
  },
  "language_info": {
   "codemirror_mode": {
    "name": "ipython",
    "version": 3
   },
   "file_extension": ".py",
   "mimetype": "text/x-python",
   "name": "python",
   "nbconvert_exporter": "python",
   "pygments_lexer": "ipython3",
   "version": "3.12.0"
  }
 },
 "nbformat": 4,
 "nbformat_minor": 5
}
