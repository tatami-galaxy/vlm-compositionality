{
 "cells": [
  {
   "cell_type": "code",
   "execution_count": 1,
   "id": "b1dd73a1-4805-4452-8cfb-1f4ca93a37cf",
   "metadata": {},
   "outputs": [],
   "source": [
    "from datasets import load_dataset"
   ]
  },
  {
   "cell_type": "code",
   "execution_count": 16,
   "id": "72916f10-8d42-4f85-ac42-e5d903655dcd",
   "metadata": {},
   "outputs": [],
   "source": [
    "sc_rep_att = load_dataset('HuggingFaceM4/SugarCrepe_replace_att')"
   ]
  },
  {
   "cell_type": "code",
   "execution_count": 17,
   "id": "771c7ac2-78c9-42f1-a784-ce9780b18f1e",
   "metadata": {},
   "outputs": [
    {
     "data": {
      "text/plain": [
       "DatasetDict({\n",
       "    test: Dataset({\n",
       "        features: ['image', 'tested_labels', 'true_label'],\n",
       "        num_rows: 788\n",
       "    })\n",
       "})"
      ]
     },
     "execution_count": 17,
     "metadata": {},
     "output_type": "execute_result"
    }
   ],
   "source": [
    "sc_rep_att"
   ]
  },
  {
   "cell_type": "code",
   "execution_count": 19,
   "id": "5d151a86-3810-4667-88c4-45d12e0e9587",
   "metadata": {},
   "outputs": [
    {
     "data": {
      "text/plain": [
       "{'image': <PIL.JpegImagePlugin.JpegImageFile image mode=RGB size=351x500>,\n",
       " 'tested_labels': ['A tan toilet and sink combination in a small room.',\n",
       "  'A white toilet and sink combination in a small room.'],\n",
       " 'true_label': 1557}"
      ]
     },
     "execution_count": 19,
     "metadata": {},
     "output_type": "execute_result"
    }
   ],
   "source": [
    "sc_rep_att['test'][0]"
   ]
  },
  {
   "cell_type": "code",
   "execution_count": null,
   "id": "5322100a-55e9-4d99-922f-0adb2dead159",
   "metadata": {},
   "outputs": [],
   "source": []
  },
  {
   "cell_type": "code",
   "execution_count": 2,
   "id": "a45e4ce4-a608-41b4-9f74-cf71669ee8a2",
   "metadata": {},
   "outputs": [
    {
     "data": {
      "application/vnd.jupyter.widget-view+json": {
       "model_id": "9ab171629014496ba69d7fdfa6dbb70c",
       "version_major": 2,
       "version_minor": 0
      },
      "text/plain": [
       "Downloading builder script:   0%|          | 0.00/9.47k [00:00<?, ?B/s]"
      ]
     },
     "metadata": {},
     "output_type": "display_data"
    },
    {
     "data": {
      "application/vnd.jupyter.widget-view+json": {
       "model_id": "ef7fbccbd353426d96ac6af1c9652809",
       "version_major": 2,
       "version_minor": 0
      },
      "text/plain": [
       "Downloading readme:   0%|          | 0.00/3.66k [00:00<?, ?B/s]"
      ]
     },
     "metadata": {},
     "output_type": "display_data"
    },
    {
     "name": "stdin",
     "output_type": "stream",
     "text": [
      "The repository for HuggingFaceM4/COCO contains custom code which must be executed to correctly load the dataset. You can inspect the repository content at https://hf.co/datasets/HuggingFaceM4/COCO.\n",
      "You can avoid this prompt in future by passing the argument `trust_remote_code=True`.\n",
      "\n",
      "Do you wish to run the custom code? [y/N]  y\n"
     ]
    },
    {
     "data": {
      "application/vnd.jupyter.widget-view+json": {
       "model_id": "bb8d2ffc32ea42d5adae44950193658b",
       "version_major": 2,
       "version_minor": 0
      },
      "text/plain": [
       "Downloading data:   0%|          | 0.00/36.7M [00:00<?, ?B/s]"
      ]
     },
     "metadata": {},
     "output_type": "display_data"
    },
    {
     "data": {
      "application/vnd.jupyter.widget-view+json": {
       "model_id": "a9cee70cea244bc3b7d3e526fa5a50a8",
       "version_major": 2,
       "version_minor": 0
      },
      "text/plain": [
       "Downloading data:   0%|          | 0.00/13.5G [00:00<?, ?B/s]"
      ]
     },
     "metadata": {},
     "output_type": "display_data"
    },
    {
     "data": {
      "application/vnd.jupyter.widget-view+json": {
       "model_id": "205a191c8a31473ea1e80fdf9855c3e6",
       "version_major": 2,
       "version_minor": 0
      },
      "text/plain": [
       "Downloading data:   0%|          | 0.00/6.65G [00:00<?, ?B/s]"
      ]
     },
     "metadata": {},
     "output_type": "display_data"
    },
    {
     "data": {
      "application/vnd.jupyter.widget-view+json": {
       "model_id": "1252d6551e9049f5ae85c496fc79df36",
       "version_major": 2,
       "version_minor": 0
      },
      "text/plain": [
       "Generating train split: 0 examples [00:00, ? examples/s]"
      ]
     },
     "metadata": {},
     "output_type": "display_data"
    },
    {
     "data": {
      "application/vnd.jupyter.widget-view+json": {
       "model_id": "48ecf4bf9b4246d2b518f6eb1bd2f0c7",
       "version_major": 2,
       "version_minor": 0
      },
      "text/plain": [
       "Generating validation split: 0 examples [00:00, ? examples/s]"
      ]
     },
     "metadata": {},
     "output_type": "display_data"
    },
    {
     "data": {
      "application/vnd.jupyter.widget-view+json": {
       "model_id": "174f6e68d2614222b83d3f7be509ddcb",
       "version_major": 2,
       "version_minor": 0
      },
      "text/plain": [
       "Generating test split: 0 examples [00:00, ? examples/s]"
      ]
     },
     "metadata": {},
     "output_type": "display_data"
    }
   ],
   "source": [
    "coco = load_dataset('HuggingFaceM4/COCO', trust_remote_code=True)"
   ]
  },
  {
   "cell_type": "code",
   "execution_count": 3,
   "id": "f9c4b389-0446-488d-b052-423f8854bbb2",
   "metadata": {},
   "outputs": [
    {
     "data": {
      "text/plain": [
       "DatasetDict({\n",
       "    train: Dataset({\n",
       "        features: ['image', 'filepath', 'sentids', 'filename', 'imgid', 'split', 'sentences', 'cocoid'],\n",
       "        num_rows: 566747\n",
       "    })\n",
       "    validation: Dataset({\n",
       "        features: ['image', 'filepath', 'sentids', 'filename', 'imgid', 'split', 'sentences', 'cocoid'],\n",
       "        num_rows: 25010\n",
       "    })\n",
       "    test: Dataset({\n",
       "        features: ['image', 'filepath', 'sentids', 'filename', 'imgid', 'split', 'sentences', 'cocoid'],\n",
       "        num_rows: 25010\n",
       "    })\n",
       "})"
      ]
     },
     "execution_count": 3,
     "metadata": {},
     "output_type": "execute_result"
    }
   ],
   "source": [
    "coco"
   ]
  },
  {
   "cell_type": "code",
   "execution_count": 4,
   "id": "8e1e5202-6807-47fc-9e40-5bd4875aa0e4",
   "metadata": {},
   "outputs": [
    {
     "data": {
      "text/plain": [
       "{'image': <PIL.JpegImagePlugin.JpegImageFile image mode=RGB size=640x480>,\n",
       " 'filepath': 'COCO_val2014_000000522418.jpg',\n",
       " 'sentids': [681330, 686718, 688839, 693159, 693204],\n",
       " 'filename': 'COCO_val2014_000000522418.jpg',\n",
       " 'imgid': 1,\n",
       " 'split': 'restval',\n",
       " 'sentences': {'tokens': ['a',\n",
       "   'woman',\n",
       "   'wearing',\n",
       "   'a',\n",
       "   'net',\n",
       "   'on',\n",
       "   'her',\n",
       "   'head',\n",
       "   'cutting',\n",
       "   'a',\n",
       "   'cake'],\n",
       "  'raw': 'A woman wearing a net on her head cutting a cake. ',\n",
       "  'imgid': 1,\n",
       "  'sentid': 681330},\n",
       " 'cocoid': 522418}"
      ]
     },
     "execution_count": 4,
     "metadata": {},
     "output_type": "execute_result"
    }
   ],
   "source": [
    "coco['train'][0]"
   ]
  },
  {
   "cell_type": "code",
   "execution_count": null,
   "id": "a45ea526-cfa1-4cd7-bea7-dd6ff7c6a7ef",
   "metadata": {},
   "outputs": [],
   "source": []
  }
 ],
 "metadata": {
  "kernelspec": {
   "display_name": "Python 3 (ipykernel)",
   "language": "python",
   "name": "python3"
  },
  "language_info": {
   "codemirror_mode": {
    "name": "ipython",
    "version": 3
   },
   "file_extension": ".py",
   "mimetype": "text/x-python",
   "name": "python",
   "nbconvert_exporter": "python",
   "pygments_lexer": "ipython3",
   "version": "3.12.0"
  }
 },
 "nbformat": 4,
 "nbformat_minor": 5
}
