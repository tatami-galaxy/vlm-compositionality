{
 "cells": [
  {
   "cell_type": "code",
   "execution_count": 6,
   "metadata": {},
   "outputs": [],
   "source": [
    "import mlx.core as mx\n",
    "from mlx_vlm import load, generate\n",
    "from mlx_vlm.prompt_utils import apply_chat_template\n",
    "from mlx_vlm.utils import load_config\n",
    "\n",
    "from transformers import AutoProcessor\n",
    "from qwen_vl_utils import process_vision_info"
   ]
  },
  {
   "cell_type": "code",
   "execution_count": 15,
   "metadata": {},
   "outputs": [
    {
     "name": "stderr",
     "output_type": "stream",
     "text": [
      "Fetching 11 files: 100%|██████████| 11/11 [00:00<00:00, 108814.49it/s]\n",
      "Fetching 11 files: 100%|██████████| 11/11 [00:00<00:00, 38035.73it/s]\n"
     ]
    }
   ],
   "source": [
    "# Load the model\n",
    "model_path = \"mlx-community/Qwen2-VL-2B-bf16\"\n",
    "model, mlx_processor = load(model_path)\n",
    "config = load_config(model_path)\n",
    "\n",
    "processor = AutoProcessor.from_pretrained(\"Qwen/Qwen2-VL-2B-Instruct\")"
   ]
  },
  {
   "cell_type": "code",
   "execution_count": 16,
   "metadata": {},
   "outputs": [],
   "source": [
    "image = \"http://images.cocodataset.org/val2017/000000039769.jpg\"\n",
    "messages = [\n",
    "    {\n",
    "        \"role\": \"user\",\n",
    "        \"content\": [\n",
    "            {\n",
    "                \"type\": \"image\",\n",
    "                \"image\": image,\n",
    "            },\n",
    "            {\"type\": \"text\", \"text\": \"Describe the image.\"},\n",
    "        ],\n",
    "    }\n",
    "]\n",
    "\n",
    "# Preparation for inference\n",
    "text = processor.apply_chat_template(\n",
    "    messages, tokenize=False, add_generation_prompt=True\n",
    ")"
   ]
  },
  {
   "cell_type": "code",
   "execution_count": 17,
   "metadata": {},
   "outputs": [
    {
     "data": {
      "text/plain": [
       "'<|im_start|>system\\nYou are a helpful assistant.<|im_end|>\\n<|im_start|>user\\n<|vision_start|><|image_pad|><|vision_end|>Describe the image.<|im_end|>\\n<|im_start|>assistant\\n'"
      ]
     },
     "execution_count": 17,
     "metadata": {},
     "output_type": "execute_result"
    }
   ],
   "source": [
    "text"
   ]
  },
  {
   "cell_type": "code",
   "execution_count": 19,
   "metadata": {},
   "outputs": [
    {
     "name": "stdout",
     "output_type": "stream",
     "text": [
      "The image shows a close-up of two cats sleeping on a pink blanket. One cat is lying down and the other is curled up in a ball. Both cats have stripes on their fur, and they are both looking towards the camera with their eyes closed. The cat lying down is wearing a green collar, and there are two remote controls on the blanket next to it. The cat curled up in a ball is wearing a pink collar, and there are also two remote controls on the blanket next to it\n"
     ]
    }
   ],
   "source": [
    "output = generate(model, mlx_processor, image, text, verbose=False)\n",
    "print(output)"
   ]
  },
  {
   "cell_type": "code",
   "execution_count": 23,
   "metadata": {},
   "outputs": [],
   "source": [
    "images = [\n",
    "    \"http://images.cocodataset.org/val2017/000000039769.jpg\",\n",
    "    \"http://images.cocodataset.org/val2017/000000082807.jpg\"\n",
    "]\n",
    "prompt = \"Compare these two images.\"\n",
    "\n",
    "formatted_prompt = apply_chat_template(\n",
    "    processor, config, prompt, num_images=len(images)\n",
    ")"
   ]
  },
  {
   "cell_type": "code",
   "execution_count": 24,
   "metadata": {},
   "outputs": [
    {
     "data": {
      "text/plain": [
       "'<|im_start|>system\\nYou are a helpful assistant.<|im_end|>\\n<|im_start|>user\\nCompare these two images.<|vision_start|><|image_pad|><|vision_end|><|vision_start|><|image_pad|><|vision_end|><|im_end|>\\n<|im_start|>assistant\\n'"
      ]
     },
     "execution_count": 24,
     "metadata": {},
     "output_type": "execute_result"
    }
   ],
   "source": [
    "formatted_prompt"
   ]
  },
  {
   "cell_type": "code",
   "execution_count": 26,
   "metadata": {},
   "outputs": [
    {
     "name": "stdout",
     "output_type": "stream",
     "text": [
      "The image shows a scene with three animals: two cats and one dog. Here's a detailed description:\n",
      "\n",
      "1. **Cat on the left**: This cat is lying down and appears to be resting or sleeping. It has a black and white striped pattern, and it's lying on its back with its paws stretched out in front of it.\n",
      "\n",
      "2. **Dog in the middle**: This dog is also lying down and appears to be resting or sleeping as well. It has a brown coat with black\n"
     ]
    }
   ],
   "source": [
    "output = generate(model, mlx_processor, images, formatted_prompt, verbose=False)\n",
    "print(output)"
   ]
  },
  {
   "cell_type": "code",
   "execution_count": null,
   "metadata": {},
   "outputs": [],
   "source": []
  }
 ],
 "metadata": {
  "kernelspec": {
   "display_name": "native",
   "language": "python",
   "name": "python3"
  },
  "language_info": {
   "codemirror_mode": {
    "name": "ipython",
    "version": 3
   },
   "file_extension": ".py",
   "mimetype": "text/x-python",
   "name": "python",
   "nbconvert_exporter": "python",
   "pygments_lexer": "ipython3",
   "version": "3.12.7"
  }
 },
 "nbformat": 4,
 "nbformat_minor": 2
}
