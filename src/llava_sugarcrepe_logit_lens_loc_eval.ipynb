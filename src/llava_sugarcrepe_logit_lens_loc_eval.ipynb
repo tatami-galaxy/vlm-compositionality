{
 "cells": [
  {
   "cell_type": "code",
   "execution_count": 1,
   "metadata": {},
   "outputs": [],
   "source": [
    "import json\n",
    "from PIL import Image\n",
    "from sklearn.metrics import f1_score\n",
    "import matplotlib.pyplot as plt\n",
    "from pycocotools.coco import COCO\n",
    "from tqdm.auto import tqdm\n",
    "\n",
    "from data_utils import(\n",
    "    load_sugarcrepe,\n",
    "    coco_cats,\n",
    "    coco_object_mask,\n",
    "    filter_coco_distict_objects,\n",
    ")\n",
    "\n",
    "from llava_utils import(\n",
    "    llava_load_model, \n",
    "    llava_process_image, \n",
    "    llava_generate,\n",
    "    llava_forward_pass,\n",
    ")\n",
    "from lens_utils import(\n",
    "    llava_logit_lens,\n",
    "    get_mask_from_lens,\n",
    ")"
   ]
  },
  {
   "cell_type": "markdown",
   "metadata": {},
   "source": [
    "##### Constants"
   ]
  },
  {
   "cell_type": "code",
   "execution_count": 2,
   "metadata": {},
   "outputs": [],
   "source": [
    "# project directory\n",
    "project_dir = \"/root/vlm-compositionality\"\n",
    "\n",
    "# sugarcrepe\n",
    "dataset_dir = project_dir+'/data/raw/sugarcrepe'\n",
    "\n",
    "# coco images\n",
    "image_dir = project_dir+'/data/raw/coco/val2017'\n",
    "# coco annotations\n",
    "ann_dir = project_dir+'/data/raw/coco/annotations'\n",
    "ann_file = ann_dir+'/instances_val2017.json'\n",
    "\n",
    "# model constants\n",
    "model_name = \"llava-hf/llava-1.5-7b-hf\"\n",
    "logit_topk = 50\n",
    "mask_topk = 10000\n",
    "num_patches = 24"
   ]
  },
  {
   "cell_type": "markdown",
   "metadata": {},
   "source": [
    "##### Load dataset and annotations"
   ]
  },
  {
   "cell_type": "code",
   "execution_count": 3,
   "metadata": {},
   "outputs": [
    {
     "name": "stdout",
     "output_type": "stream",
     "text": [
      "loading annotations into memory...\n",
      "Done (t=0.42s)\n",
      "creating index...\n",
      "index created!\n"
     ]
    }
   ],
   "source": [
    "# load sugarcrepe\n",
    "sugarcrepe = load_sugarcrepe(dataset_dir)\n",
    "\n",
    "# load annotations\n",
    "coco=COCO(ann_file)\n",
    "\n",
    "# get coco image ids\n",
    "image_ids = coco.getImgIds()"
   ]
  },
  {
   "cell_type": "markdown",
   "metadata": {},
   "source": [
    "##### Filter images to get at most one object type per image"
   ]
  },
  {
   "cell_type": "code",
   "execution_count": null,
   "metadata": {},
   "outputs": [],
   "source": [
    "# filter images\n",
    "image_ids = filter_coco_distict_objects(coco, image_ids)"
   ]
  },
  {
   "cell_type": "markdown",
   "metadata": {},
   "source": [
    "##### Load model"
   ]
  },
  {
   "cell_type": "code",
   "execution_count": 4,
   "metadata": {},
   "outputs": [
    {
     "data": {
      "application/vnd.jupyter.widget-view+json": {
       "model_id": "acb08d25f28846119b56e95f62edb3c4",
       "version_major": 2,
       "version_minor": 0
      },
      "text/plain": [
       "Loading checkpoint shards:   0%|          | 0/3 [00:00<?, ?it/s]"
      ]
     },
     "metadata": {},
     "output_type": "display_data"
    }
   ],
   "source": [
    "# load model, processor\n",
    "model, processor = llava_load_model(model_name) #, flash_attention=False, torch_dtype=torch.float32)"
   ]
  },
  {
   "cell_type": "markdown",
   "metadata": {},
   "source": [
    "##### Eval loop"
   ]
  },
  {
   "cell_type": "code",
   "execution_count": 5,
   "metadata": {},
   "outputs": [
    {
     "name": "stderr",
     "output_type": "stream",
     "text": [
      "Expanding inputs for image tokens in LLaVa should be done in processing. Please add `patch_size` and `vision_feature_select_strategy` to the model's processing config or set directly with `processor.patch_size = {{patch_size}}` and processor.vision_feature_select_strategy = {{vision_feature_select_strategy}}`. Using processors without these attributes in the config is deprecated and will throw an error in v4.50.\n",
      "From v4.47 onwards, when a model cache is to be returned, `generate` will return a `Cache` instance instead by default (as opposed to the legacy tuple of tuples format). If you want to keep returning the legacy format, please set `return_legacy_cache=True`.\n"
     ]
    },
    {
     "name": "stdout",
     "output_type": "stream",
     "text": [
      "f1 score for toilet : 0.1661264792341901\n",
      "f1 score for sink : 0.5336979433715034\n"
     ]
    },
    {
     "ename": "RuntimeError",
     "evalue": "No active exception to reraise",
     "output_type": "error",
     "traceback": [
      "\u001b[0;31m---------------------------------------------------------------------------\u001b[0m",
      "\u001b[0;31mRuntimeError\u001b[0m                              Traceback (most recent call last)",
      "Cell \u001b[0;32mIn[5], line 52\u001b[0m\n\u001b[1;32m     50\u001b[0m     f1 \u001b[38;5;241m=\u001b[39m f1_score(coco_mask\u001b[38;5;241m.\u001b[39mflatten(), ll_mask\u001b[38;5;241m.\u001b[39mflatten())\n\u001b[1;32m     51\u001b[0m     \u001b[38;5;28mprint\u001b[39m(\u001b[38;5;124m\"\u001b[39m\u001b[38;5;124mf1 score for \u001b[39m\u001b[38;5;132;01m{}\u001b[39;00m\u001b[38;5;124m : \u001b[39m\u001b[38;5;132;01m{}\u001b[39;00m\u001b[38;5;124m\"\u001b[39m\u001b[38;5;241m.\u001b[39mformat(token, f1))\n\u001b[0;32m---> 52\u001b[0m \u001b[38;5;28;01mraise\u001b[39;00m\n",
      "\u001b[0;31mRuntimeError\u001b[0m: No active exception to reraise"
     ]
    }
   ],
   "source": [
    "# map image files to F1 scores\n",
    "# file : {object1: f1_score1, object2: f1_score2,...}\n",
    "image_to_f1 = {}\n",
    "\n",
    "# get image, get all object tokens for the image\n",
    "# for each object token generate logit lens mask and compare with coco mask\n",
    "bar = tqdm(range(len(image_ids)))\n",
    "for image_id in image_ids:\n",
    "\n",
    "    # image info\n",
    "    image_info = coco.loadImgs(image_id)[0]\n",
    "    image_file = image_info['file_name']\n",
    "    image_width = image_info['width']\n",
    "    image_height = image_info['height']\n",
    "\n",
    "    # object tokens\n",
    "    tokens = coco_cats(coco, image_id)\n",
    "\n",
    "    # get coco masks\n",
    "    token_to_mask = coco_object_mask(coco, image_id)\n",
    "\n",
    "    # load image\n",
    "    image = Image.open(image_dir+'/'+image_file).convert(\"RGB\")\n",
    "\n",
    "    # process image and prompt(default)\n",
    "    # prompt does not matter since image tokens do not attend to prompt\n",
    "    inputs = llava_process_image(image, processor, device=model.device)\n",
    "\n",
    "    # TODO: why even generate?\n",
    "    # generate\n",
    "    #outputs = llava_generate(inputs, model, output_hidden_states=True)\n",
    "\n",
    "    # forward pass\n",
    "    outputs = llava_forward_pass(inputs, model, output_hidden_states=True)\n",
    "\n",
    "    # get logit lens\n",
    "    # vocab_dim, num_layers, num_tokens\n",
    "    # TODO: how else to measure overlap other than topk values in mask\n",
    "    # TODO: what metric other than F1\n",
    "    softmax_probs = llava_logit_lens(\n",
    "        inputs,\n",
    "        model,\n",
    "        outputs,\n",
    "        output_type='forward',\n",
    "        logit_topk=logit_topk,\n",
    "    )\n",
    "\n",
    "    # compare for each token\n",
    "    for token in tokens:\n",
    "        # get non zero mask from lens\n",
    "        ll_mask = get_mask_from_lens(\n",
    "            softmax_probs,\n",
    "            token,\n",
    "            processor,\n",
    "            num_patches,\n",
    "            image_width,\n",
    "            image_height,\n",
    "            mask_type='topk',\n",
    "            mask_topk=mask_topk,\n",
    "        )\n",
    "\n",
    "        # compare coco mask and logit lens mask\n",
    "        coco_mask = token_to_mask[token]\n",
    "\n",
    "        # f1 score to estimate overlap\n",
    "        f1 = f1_score(coco_mask.flatten(), ll_mask.flatten())\n",
    "\n",
    "        # store f1\n",
    "        if image_file not in image_to_f1:\n",
    "            image_to_f1[image_file] = {token: f1}\n",
    "        else:\n",
    "            image_to_f1[image_file][token] = f1\n",
    "        #print(\"f1 score for {} : {}\".format(token, f1))\n",
    "    #raise\n",
    "    bar.update(1)"
   ]
  },
  {
   "cell_type": "code",
   "execution_count": null,
   "metadata": {},
   "outputs": [],
   "source": [
    "image_to_f1"
   ]
  },
  {
   "cell_type": "markdown",
   "metadata": {},
   "source": [
    "##### Save image to F1 map"
   ]
  },
  {
   "cell_type": "code",
   "execution_count": null,
   "metadata": {},
   "outputs": [],
   "source": [
    "image_to_f1_filename = 'image_to_f1_logit_{}_mask_{}.json'.format(logit_topk, mask_topk)\n",
    "with open(project_dir+'/data/processed/'+image_to_f1_filename, 'w') as fp:\n",
    "    json.dump(image_to_f1, fp)"
   ]
  },
  {
   "cell_type": "code",
   "execution_count": null,
   "metadata": {},
   "outputs": [],
   "source": []
  },
  {
   "cell_type": "code",
   "execution_count": null,
   "metadata": {},
   "outputs": [],
   "source": []
  },
  {
   "cell_type": "code",
   "execution_count": 6,
   "metadata": {},
   "outputs": [
    {
     "data": {
      "text/plain": [
       "<matplotlib.image.AxesImage at 0x7d9623dd09a0>"
      ]
     },
     "execution_count": 6,
     "metadata": {},
     "output_type": "execute_result"
    },
    {
     "data": {
      "image/png": "[encoded data removed]",
      "text/plain": [
       "<Figure size 640x480 with 1 Axes>"
      ]
     },
     "metadata": {},
     "output_type": "display_data"
    }
   ],
   "source": [
    "plt.imshow(coco_mask)"
   ]
  },
  {
   "cell_type": "code",
   "execution_count": 7,
   "metadata": {},
   "outputs": [
    {
     "data": {
      "text/plain": [
       "<matplotlib.image.AxesImage at 0x7d9623ec9a20>"
      ]
     },
     "execution_count": 7,
     "metadata": {},
     "output_type": "execute_result"
    },
    {
     "data": {
      "image/png": "[encoded data removed]",
      "text/plain": [
       "<Figure size 640x480 with 1 Axes>"
      ]
     },
     "metadata": {},
     "output_type": "display_data"
    }
   ],
   "source": [
    "plt.imshow(ll_mask)"
   ]
  },
  {
   "cell_type": "code",
   "execution_count": null,
   "metadata": {},
   "outputs": [],
   "source": []
  }
 ],
 "metadata": {
  "kernelspec": {
   "display_name": ".venv",
   "language": "python",
   "name": "python3"
  },
  "language_info": {
   "codemirror_mode": {
    "name": "ipython",
    "version": 3
   },
   "file_extension": ".py",
   "mimetype": "text/x-python",
   "name": "python",
   "nbconvert_exporter": "python",
   "pygments_lexer": "ipython3",
   "version": "3.12.7"
  }
 },
 "nbformat": 4,
 "nbformat_minor": 4
}
