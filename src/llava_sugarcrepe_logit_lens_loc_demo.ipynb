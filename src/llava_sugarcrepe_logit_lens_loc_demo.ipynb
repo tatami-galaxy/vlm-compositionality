{
 "cells": [
  {
   "cell_type": "code",
   "execution_count": null,
   "metadata": {},
   "outputs": [],
   "source": [
    "from PIL import Image\n",
    "import matplotlib.pyplot as plt\n",
    "\n",
    "from utils import llava_load_model, llava_process_image, llava_generate\n",
    "from lens_utils import llava_logit_lens"
   ]
  },
  {
   "cell_type": "markdown",
   "metadata": {},
   "source": [
    "#### Paths"
   ]
  },
  {
   "cell_type": "code",
   "execution_count": null,
   "metadata": {},
   "outputs": [],
   "source": [
    "data_path = \"/home/drdo/vlm-compositionality/data\"\n",
    "dataset_folder = data_path+\"/raw/sugarcrepe\",\n",
    "image_folder = data_path+\"/raw/coco_val_2017\"\n",
    "model_name = \"llava-hf/llava-1.5-13b-hf\"\n",
    "image_file = image_folder+\"/000000008690.jpg\""
   ]
  },
  {
   "cell_type": "markdown",
   "metadata": {},
   "source": [
    "#### Get hidden states"
   ]
  },
  {
   "cell_type": "code",
   "execution_count": null,
   "metadata": {},
   "outputs": [],
   "source": [
    "# load image\n",
    "# TODO: random image\n",
    "image = Image.open(image_file)\n",
    "\n",
    "# load model, processor\n",
    "model, processor = llava_load_model(model_name)\n",
    "\n",
    "# process image and prompt(default)\n",
    "inputs = llava_process_image(image, processor, device=model.device)\n",
    "\n",
    "# generate\n",
    "outputs = llava_generate(inputs, model)"
   ]
  },
  {
   "cell_type": "markdown",
   "metadata": {},
   "source": [
    "#### Get logit lens"
   ]
  },
  {
   "cell_type": "code",
   "execution_count": null,
   "metadata": {},
   "outputs": [],
   "source": [
    "# TODO: norm before unembedding\n",
    "# vocab_dim, num_layers, num_tokens\n",
    "softmax_probs = llava_logit_lens(inputs, model, outputs)"
   ]
  }
 ],
 "metadata": {
  "kernelspec": {
   "display_name": ".venv",
   "language": "python",
   "name": "python3"
  },
  "language_info": {
   "name": "python",
   "version": "3.12.7"
  }
 },
 "nbformat": 4,
 "nbformat_minor": 2
}
